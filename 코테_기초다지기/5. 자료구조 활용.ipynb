{
 "cells": [
  {
   "cell_type": "markdown",
   "metadata": {},
   "source": [
    "## 1. 가장 큰 수"
   ]
  },
  {
   "cell_type": "markdown",
   "metadata": {},
   "source": [
    "##### STACK (LIFO) : last in , First out\n",
    "##### list와 pop을 이용해 만들 수 있음"
   ]
  },
  {
   "cell_type": "code",
   "execution_count": 35,
   "metadata": {},
   "outputs": [
    {
     "name": "stdout",
     "output_type": "stream",
     "text": [
      "9977252641 5\n",
      "99776\n"
     ]
    }
   ],
   "source": [
    "n, m = input().split()\n",
    "m = int(m)\n",
    "cnt = 0\n",
    "lst = []\n",
    "for i in n:\n",
    "    while True:\n",
    "        if cnt ==m:\n",
    "            lst.append(int(i))\n",
    "            break\n",
    "        elif len(lst) == 0:\n",
    "            lst.append(int(i))\n",
    "            break\n",
    "        elif lst[-1]>=int(i):\n",
    "            lst.append(int(i))\n",
    "            break\n",
    "        else:\n",
    "            lst.pop()\n",
    "            cnt+=1\n",
    "if m>cnt:\n",
    "    lst = lst[:-(m-cnt)]\n",
    "    \n",
    "lst = list(map(str,lst))\n",
    "print(''.join(lst))"
   ]
  },
  {
   "cell_type": "code",
   "execution_count": 30,
   "metadata": {},
   "outputs": [],
   "source": []
  },
  {
   "cell_type": "markdown",
   "metadata": {},
   "source": [
    "## 5-2 쇠막대기"
   ]
  },
  {
   "cell_type": "code",
   "execution_count": 70,
   "metadata": {},
   "outputs": [
    {
     "name": "stdout",
     "output_type": "stream",
     "text": [
      "(((()(()()))(())()))(()())\n",
      "24\n"
     ]
    }
   ],
   "source": [
    "lst = list(input())\n",
    "total = 0\n",
    "n = 0\n",
    "for i in range(len(lst)):\n",
    "    if lst[i] == ')' and lst[i-1] =='(':\n",
    "        n-=1\n",
    "        total+=n\n",
    "    elif lst[i] == '(':\n",
    "        n +=1\n",
    "    elif lst[i] ==')':\n",
    "        n -=1\n",
    "        total +=1\n",
    "print(total)"
   ]
  },
  {
   "cell_type": "code",
   "execution_count": 75,
   "metadata": {},
   "outputs": [
    {
     "name": "stdout",
     "output_type": "stream",
     "text": [
      "24\n"
     ]
    }
   ],
   "source": [
    "total = 0\n",
    "n = 0\n",
    "a = []\n",
    "total = 0\n",
    "for i in range(len(lst)):\n",
    "    if lst[i] == '(':\n",
    "        a.append(lst[i])\n",
    "    elif lst[i] ==')':\n",
    "        if lst[i-1] == '(':\n",
    "            a.pop()\n",
    "            total+= len(a)\n",
    "            continue\n",
    "        a.pop()\n",
    "        total +=1\n",
    "print(total)"
   ]
  },
  {
   "cell_type": "markdown",
   "metadata": {},
   "source": [
    "## 5-3 후위 표기식"
   ]
  },
  {
   "cell_type": "code",
   "execution_count": 83,
   "metadata": {},
   "outputs": [
    {
     "name": "stdout",
     "output_type": "stream",
     "text": [
      "3+5*2/(7-2)\n"
     ]
    }
   ],
   "source": [
    "lst = input()"
   ]
  },
  {
   "cell_type": "code",
   "execution_count": 86,
   "metadata": {},
   "outputs": [],
   "source": [
    "pm = ['+','-']\n",
    "gn = ['*','/']\n",
    "num = list(map(str,range(10)))\n",
    "stack = []"
   ]
  },
  {
   "cell_type": "code",
   "execution_count": 87,
   "metadata": {},
   "outputs": [],
   "source": [
    "res= ''\n",
    "for x in lst:\n",
    "    if x.isdecimal():\n",
    "        res+=x\n",
    "    else:\n",
    "        if x =='(':\n",
    "            stack.append(x)\n",
    "        elif x == '*' or x  == '/':\n",
    "            while stack and (stack[-1] == '*' or stack[-1] == '/'):\n",
    "                res +=stack.pop()\n",
    "            stack.append(x)\n",
    "        elif x == 'x'or x == '-':\n",
    "            while stack and stack[-1] != '(':\n",
    "                res += stack.pop()\n",
    "            stack.append(x)\n",
    "        elif x==')':\n",
    "            while stack and stack[-1] != '(':\n",
    "                res+=stack.pop()\n",
    "            stack.pop()\n",
    "            \n",
    "while stack:\n",
    "    res+=stack.pop()\n",
    "\n",
    "    \n",
    "print(res)   "
   ]
  },
  {
   "cell_type": "markdown",
   "metadata": {},
   "source": [
    "## 5-4 후위식 연산"
   ]
  },
  {
   "cell_type": "code",
   "execution_count": 99,
   "metadata": {},
   "outputs": [
    {
     "name": "stdout",
     "output_type": "stream",
     "text": [
      "12\n"
     ]
    }
   ],
   "source": [
    "lst = input()\n",
    "stack = []\n",
    "for i in lst:\n",
    "    if i.isdecimal():\n",
    "        stack.append(i)\n",
    "        \n",
    "    elif i == '+':\n",
    "        a = int(stack.pop())\n",
    "        b = int(stack.pop())\n",
    "        stack.append(b+a)\n",
    "    elif i == '-':\n",
    "        a = int(stack.pop())\n",
    "        b = int(stack.pop())\n",
    "        stack.append(b-a)\n",
    "    elif i == '*':\n",
    "        a = int(stack.pop())\n",
    "        b = int(stack.pop())\n",
    "        stack.append(b*a)\n",
    "    elif i == '/':\n",
    "        a = int(stack.pop())\n",
    "        b = int(stack.pop())\n",
    "        stack.append(b/a)\n",
    "print(stack[0])"
   ]
  },
  {
   "cell_type": "markdown",
   "metadata": {},
   "source": [
    "## 5-5 공주구하기(큐)"
   ]
  },
  {
   "cell_type": "markdown",
   "metadata": {},
   "source": [
    "##### Que : First in, First out\n",
    "\n",
    "##### deque 사용 : appendleft, popleft, append, popright"
   ]
  },
  {
   "cell_type": "code",
   "execution_count": 109,
   "metadata": {},
   "outputs": [
    {
     "name": "stdout",
     "output_type": "stream",
     "text": [
      "8 3\n"
     ]
    }
   ],
   "source": [
    "from collections import deque\n",
    "n,m = map(int,input().split())\n",
    "que = list(range(1,n+1))\n",
    "dq = deque(que)\n",
    "\n",
    "while len(dq)>1:\n",
    "    for i in range(m):\n",
    "        a = dq.popleft()\n",
    "        if i != m-1:\n",
    "            dq.append(a)\n",
    "print(dq[0])"
   ]
  },
  {
   "cell_type": "markdown",
   "metadata": {},
   "source": [
    "## 5-6 응급실"
   ]
  },
  {
   "cell_type": "code",
   "execution_count": 193,
   "metadata": {},
   "outputs": [
    {
     "name": "stdout",
     "output_type": "stream",
     "text": [
      "6 0\n",
      "60 60 90 60 60 60 \n",
      "5\n"
     ]
    }
   ],
   "source": [
    "from collections import deque\n",
    "\n",
    "n,m = map(int,input().split())\n",
    "priority = list(map(int,input().split()))\n",
    "lst = []\n",
    "for i, j in enumerate(priority):\n",
    "    lst.append([i,j])\n",
    "lst = deque(lst)\n",
    "cnt = 0\n",
    "z =1\n",
    "while True:\n",
    "    nxt = max(priority)\n",
    "    while True:\n",
    "        a = lst.popleft()\n",
    "        if a[1] == nxt:\n",
    "            if a[0] == m:\n",
    "                z = 0 \n",
    "                break\n",
    "            break\n",
    "        lst.append(a)\n",
    "    \n",
    "    cnt += 1\n",
    "    if z ==0:\n",
    "        break\n",
    "    priority.remove(nxt)\n",
    "print(cnt)"
   ]
  },
  {
   "cell_type": "code",
   "execution_count": 195,
   "metadata": {},
   "outputs": [
    {
     "name": "stdout",
     "output_type": "stream",
     "text": [
      "6 0\n",
      "60 60 90 60 60 60\n",
      "5\n"
     ]
    }
   ],
   "source": [
    "from collections import deque\n",
    "\n",
    "n,m = map(int,input().split())\n",
    "priority = list(map(int,input().split()))\n",
    "lst = []\n",
    "for i, j in enumerate(priority):\n",
    "    lst.append([i,j])\n",
    "lst = deque(lst)\n",
    "cnt = 0\n",
    "\n",
    "\n",
    "while True:\n",
    "    cur = lst.popleft()\n",
    "    if any(cur[1]< x[1] for x in lst):\n",
    "        lst.append(cur)\n",
    "    else:\n",
    "        cnt+=1\n",
    "        if cur[0] ==m:\n",
    "            print(cnt)\n",
    "            break"
   ]
  },
  {
   "cell_type": "markdown",
   "metadata": {},
   "source": [
    "## 5-7 교육과정 설계"
   ]
  },
  {
   "cell_type": "code",
   "execution_count": 1,
   "metadata": {},
   "outputs": [],
   "source": [
    "from collections import deque"
   ]
  },
  {
   "cell_type": "code",
   "execution_count": 6,
   "metadata": {
    "collapsed": true
   },
   "outputs": [
    {
     "name": "stdout",
     "output_type": "stream",
     "text": [
      "AKDEF\n",
      "5\n",
      "AYKGDHEJ\n"
     ]
    },
    {
     "ename": "IndexError",
     "evalue": "pop from an empty deque",
     "output_type": "error",
     "traceback": [
      "\u001b[1;31m---------------------------------------------------------------------------\u001b[0m",
      "\u001b[1;31mIndexError\u001b[0m                                Traceback (most recent call last)",
      "\u001b[1;32m<ipython-input-6-2202423991b5>\u001b[0m in \u001b[0;36m<module>\u001b[1;34m\u001b[0m\n\u001b[0;32m      6\u001b[0m     \u001b[0mf\u001b[0m \u001b[1;33m=\u001b[0m \u001b[1;34m''\u001b[0m\u001b[1;33m\u001b[0m\u001b[1;33m\u001b[0m\u001b[0m\n\u001b[0;32m      7\u001b[0m     \u001b[1;32mwhile\u001b[0m \u001b[0mlen\u001b[0m\u001b[1;33m(\u001b[0m\u001b[0mf\u001b[0m\u001b[1;33m)\u001b[0m \u001b[1;33m<\u001b[0m \u001b[0mlen\u001b[0m\u001b[1;33m(\u001b[0m\u001b[0ma\u001b[0m\u001b[1;33m)\u001b[0m\u001b[1;33m:\u001b[0m\u001b[1;33m\u001b[0m\u001b[1;33m\u001b[0m\u001b[0m\n\u001b[1;32m----> 8\u001b[1;33m         \u001b[0me\u001b[0m \u001b[1;33m=\u001b[0m \u001b[0md\u001b[0m\u001b[1;33m.\u001b[0m\u001b[0mpopleft\u001b[0m\u001b[1;33m(\u001b[0m\u001b[1;33m)\u001b[0m\u001b[1;33m\u001b[0m\u001b[1;33m\u001b[0m\u001b[0m\n\u001b[0m\u001b[0;32m      9\u001b[0m         \u001b[1;32mif\u001b[0m \u001b[1;33m(\u001b[0m\u001b[0me\u001b[0m \u001b[1;32min\u001b[0m \u001b[0ma\u001b[0m \u001b[1;32mand\u001b[0m \u001b[0me\u001b[0m \u001b[1;32mnot\u001b[0m \u001b[1;32min\u001b[0m \u001b[0mf\u001b[0m\u001b[1;33m)\u001b[0m\u001b[1;33m:\u001b[0m\u001b[1;33m\u001b[0m\u001b[1;33m\u001b[0m\u001b[0m\n\u001b[0;32m     10\u001b[0m             \u001b[0mf\u001b[0m \u001b[1;33m+=\u001b[0m \u001b[0me\u001b[0m\u001b[1;33m\u001b[0m\u001b[1;33m\u001b[0m\u001b[0m\n",
      "\u001b[1;31mIndexError\u001b[0m: pop from an empty deque"
     ]
    }
   ],
   "source": [
    "from collections import deque\n",
    "a = input()\n",
    "n = int(input())\n",
    "for i in range(1,n+1):\n",
    "    d = deque(list(input()))\n",
    "    f = ''\n",
    "    while len(f) < len(a):\n",
    "        if len(d) == 0:\n",
    "            print('#'+str(i)+' NO')\n",
    "            break\n",
    "        e = d.popleft()\n",
    "        if (e in a and e not in f):\n",
    "            f += e\n",
    "    if len(a)!= len(f):\n",
    "        continue\n",
    "    elif a == f:\n",
    "        print('#'+str(i)+' YES')\n",
    "    else:\n",
    "        print('#'+str(i)+' NO')\n",
    "    "
   ]
  },
  {
   "cell_type": "markdown",
   "metadata": {},
   "source": [
    "## 5-8 단어찾기"
   ]
  },
  {
   "cell_type": "code",
   "execution_count": 8,
   "metadata": {
    "collapsed": true
   },
   "outputs": [
    {
     "name": "stdout",
     "output_type": "stream",
     "text": [
      "5\n",
      "big\n",
      "good\n",
      "sky\n",
      "blue\n",
      "mouse\n",
      "sky\n",
      "good\n",
      "mouse\n",
      "big\n",
      "blue\n"
     ]
    }
   ],
   "source": [
    "n = int(input())\n",
    "lst = []\n",
    "for i in range(n):\n",
    "    a = input()\n",
    "    lst.append(a)\n",
    "    \n",
    "for i in range(n-1):\n",
    "    a = input()\n",
    "    lst.remove(a)\n",
    "    \n",
    "print(lst[0])"
   ]
  },
  {
   "cell_type": "markdown",
   "metadata": {},
   "source": [
    "## 5-9 Anagram"
   ]
  },
  {
   "cell_type": "code",
   "execution_count": 23,
   "metadata": {},
   "outputs": [
    {
     "name": "stdout",
     "output_type": "stream",
     "text": [
      "AbaAeCe\n",
      "baeeACA\n",
      "YES\n"
     ]
    }
   ],
   "source": [
    "a = input()\n",
    "b = input()\n",
    "d1 = dict()\n",
    "d2 = dict()\n",
    "for i in range(len(a)):\n",
    "    d1[a[i]] = d1.get(a[i],0)+1\n",
    "    d2[b[i]] = d2.get(b[i],0)+1\n",
    "    \n",
    "for key,val in d1.items():\n",
    "    if key in d2.keys():\n",
    "        if d2[key] != d1[key]:\n",
    "            print(\"NO\")\n",
    "            break\n",
    "    else: \n",
    "        print(\"NO\")\n",
    "\n",
    "else:\n",
    "    print(\"YES\")"
   ]
  },
  {
   "cell_type": "markdown",
   "metadata": {},
   "source": [
    "## 5-9-2 Anagram with 리스트 해쉬"
   ]
  },
  {
   "cell_type": "markdown",
   "metadata": {},
   "source": [
    "#### 아스키넘버\n",
    "##### 알파벳 대문자 65~90\n",
    "##### 알파벳 소문자 97~122"
   ]
  },
  {
   "cell_type": "code",
   "execution_count": 25,
   "metadata": {},
   "outputs": [
    {
     "name": "stdout",
     "output_type": "stream",
     "text": [
      "AbaAeCe\n",
      "baeeACA\n"
     ]
    }
   ],
   "source": [
    "a = input()\n",
    "b = input()\n",
    "\n",
    "str1 = [0]*52\n",
    "str2 = [0]*52\n",
    "\n",
    "for x in a:\n",
    "    #대문자면 65를 빼줌(0~25)\n",
    "    if x.isupper():\n",
    "        str1[ord(x)-65] +=1\n",
    "    #소문자면 71을 빼줌(26~51)\n",
    "    else:\n",
    "        str1[ord(x)-71] +=1\n",
    "        \n",
    "for x in b:\n",
    "    #대문자면 65를 빼줌(0~25)\n",
    "    if x.isupper():\n",
    "        str2[ord(x)-65] +=1\n",
    "    #소문자면 71을 빼줌(26~51)\n",
    "    else:\n",
    "        str2[ord(x)-71] +=1\n",
    "for i in range(52):\n",
    "    if str1[i] != str2[i]:\n",
    "        print(\"NO\")\n",
    "        break\n",
    "else:\n",
    "    print(\"YES\")"
   ]
  },
  {
   "cell_type": "markdown",
   "metadata": {},
   "source": [
    "## 5-10 최소힙"
   ]
  },
  {
   "cell_type": "code",
   "execution_count": 27,
   "metadata": {},
   "outputs": [],
   "source": [
    "import heapq as hq"
   ]
  },
  {
   "cell_type": "code",
   "execution_count": 30,
   "metadata": {},
   "outputs": [
    {
     "name": "stdout",
     "output_type": "stream",
     "text": [
      "5\n",
      "3\n",
      "6\n",
      "0\n",
      "3\n",
      "5\n",
      "0\n",
      "5\n",
      "2\n",
      "4\n",
      "0\n",
      "2\n",
      "-1\n"
     ]
    }
   ],
   "source": [
    "a = []\n",
    "while True:\n",
    "    n = int(input())\n",
    "    if n ==-1:\n",
    "        break\n",
    "    if n ==0:\n",
    "        if len(a) == 0:\n",
    "            print(-1)\n",
    "        else:\n",
    "            print(hq.heappop(a))\n",
    "    else:\n",
    "        hq.heappush(a, n)"
   ]
  },
  {
   "cell_type": "markdown",
   "metadata": {},
   "source": [
    "## 5-11 최대힙"
   ]
  },
  {
   "cell_type": "code",
   "execution_count": 27,
   "metadata": {},
   "outputs": [],
   "source": [
    "import heapq as hq"
   ]
  },
  {
   "cell_type": "code",
   "execution_count": 32,
   "metadata": {},
   "outputs": [
    {
     "name": "stdout",
     "output_type": "stream",
     "text": [
      "5\n",
      "3\n",
      "6\n",
      "0\n",
      "6\n",
      "5\n",
      "0\n",
      "5\n",
      "2\n",
      "4\n",
      "0\n",
      "5\n",
      "-1\n"
     ]
    }
   ],
   "source": [
    "a = []\n",
    "while True:\n",
    "    n = int(input())\n",
    "    if n ==-1:\n",
    "        break\n",
    "    if n ==0:\n",
    "        if len(a) == 0:\n",
    "            print(-1)\n",
    "        else:\n",
    "            print(hq.heappop(a)*(-1))\n",
    "    else:\n",
    "        hq.heappush(a, -n)"
   ]
  },
  {
   "cell_type": "code",
   "execution_count": null,
   "metadata": {},
   "outputs": [],
   "source": []
  }
 ],
 "metadata": {
  "kernelspec": {
   "display_name": "Python 3",
   "language": "python",
   "name": "python3"
  },
  "language_info": {
   "codemirror_mode": {
    "name": "ipython",
    "version": 3
   },
   "file_extension": ".py",
   "mimetype": "text/x-python",
   "name": "python",
   "nbconvert_exporter": "python",
   "pygments_lexer": "ipython3",
   "version": "3.7.3"
  }
 },
 "nbformat": 4,
 "nbformat_minor": 2
}
