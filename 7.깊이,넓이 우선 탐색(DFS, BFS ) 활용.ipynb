{
 "cells": [
  {
   "cell_type": "markdown",
   "metadata": {},
   "source": [
    "## 1. 최대 점수 구하기(DFS)"
   ]
  },
  {
   "cell_type": "code",
   "execution_count": null,
   "metadata": {},
   "outputs": [],
   "source": [
    "def DFS(idx,score,time):\n",
    "    global best\n",
    "    if time > t:\n",
    "        return\n",
    "    if idx == n:\n",
    "        if score > best:\n",
    "            best = score\n",
    "        return\n",
    "    DFS(idx+1, score, time)        \n",
    "    DFS(idx+1, score + lst[idx][0],time +lst[idx][1])\n",
    "\n",
    "\n",
    "if __name__ == '__main__':\n",
    "    n,t = map(int,input().split())\n",
    "    lst = [list(map(int,input().split())) for i in range(n)]\n",
    "    lst.sort(key =lambda x: x[0]/x[1],reverse = True)\n",
    "    best = 0\n",
    "    DFS(0,0,0)\n",
    "    print(best)"
   ]
  },
  {
   "cell_type": "markdown",
   "metadata": {},
   "source": [
    "## 2.휴가(삼성sw 기출)"
   ]
  },
  {
   "cell_type": "code",
   "execution_count": null,
   "metadata": {},
   "outputs": [],
   "source": []
  },
  {
   "cell_type": "code",
   "execution_count": null,
   "metadata": {},
   "outputs": [],
   "source": [
    "def DFS(idx,score):\n",
    "    global best\n",
    "    if idx > n:\n",
    "        return\n",
    "    if idx ==n:\n",
    "        if score>best:\n",
    "            best = score\n",
    "        return\n",
    "    \n",
    "    DFS(idx+lst[idx][0], score+lst[idx][1])\n",
    "    DFS(idx+1, score)\n",
    "    \n",
    "        \n",
    "        \n",
    "if __name__ == '__main__':\n",
    "    n =int(input())\n",
    "    lst = [list(map(int,input().split())) for i in range(n)]\n",
    "    best = 0\n",
    "    DFS(0,0)\n",
    "    print(best)"
   ]
  },
  {
   "cell_type": "markdown",
   "metadata": {},
   "source": [
    "## 3. 양팔저울"
   ]
  },
  {
   "cell_type": "code",
   "execution_count": null,
   "metadata": {},
   "outputs": [],
   "source": [
    "k = int(input())\n",
    "lst = list(map(int,input().split()))"
   ]
  },
  {
   "cell_type": "code",
   "execution_count": null,
   "metadata": {},
   "outputs": [],
   "source": [
    "def DFS(x,sum):\n",
    "    global s\n",
    "    if x ==len(lst):\n",
    "        return\n",
    "    else:\n",
    "        t.append(abs(sum-lst[x]))\n",
    "        DFS(x+1,sum-lst[x])\n",
    "        \n",
    "        t.append(abs(sum+lst[x]))\n",
    "        DFS(x+1,sum)\n",
    "        \n",
    "        t.append(abs(sum+lst[x]))\n",
    "        DFS(x+1,sum+lst[x])\n",
    "        \n",
    "        \n",
    "if __name__ == \"__main__\":\n",
    "    k = int(input())\n",
    "    lst = list(map(int,input().split()))\n",
    "    aws = list(range(1,sum(lst)+1))\n",
    "    t = []\n",
    "    s=0\n",
    "    DFS(0,s)\n",
    "    \n",
    "    \n",
    "    print(len(set(aws)-set(t)))"
   ]
  },
  {
   "cell_type": "markdown",
   "metadata": {},
   "source": [
    "## 4.동전 바꿔주기(DFS)"
   ]
  },
  {
   "cell_type": "code",
   "execution_count": null,
   "metadata": {},
   "outputs": [],
   "source": [
    "T = int(input())\n",
    "k = int(input())\n",
    "lst = list()\n",
    "for i in range(k):\n",
    "    lst.append(list(map(int,input().split())))"
   ]
  },
  {
   "cell_type": "code",
   "execution_count": null,
   "metadata": {},
   "outputs": [],
   "source": [
    "def DFS(x,n):\n",
    "    global count\n",
    "    global s\n",
    "    \n",
    "    \n",
    "    if s > T or x== k:\n",
    "        return\n",
    "        \n",
    "    elif s == T:\n",
    "        count+=1\n",
    "        return\n",
    "    elif n == lst[x][1]:\n",
    "        DFS(x+1,0)\n",
    "        \n",
    "    else:\n",
    "        s += lst[x][0]\n",
    "        DFS(x,n+1)\n",
    "        s -= lst[x][0]\n",
    "        DFS(x+1,0)\n",
    "\n",
    "if __name__ ==\"__main__\":\n",
    "    lst.sort(key = lambda x: -x[0])\n",
    "    count = 0\n",
    "    s = 0\n",
    "    DFS(0,0)\n",
    "    print(count)"
   ]
  },
  {
   "cell_type": "markdown",
   "metadata": {},
   "source": [
    "## 5.동전 분배하기"
   ]
  },
  {
   "cell_type": "code",
   "execution_count": null,
   "metadata": {},
   "outputs": [],
   "source": [
    "def DFS(x):\n",
    "    global answer\n",
    "    if x == n:\n",
    "        if len(set(lst2)) == 3:\n",
    "            if answer > max(lst2) - min(lst2):\n",
    "                answer = max(lst2) - min(lst2)\n",
    "        return\n",
    "    else:\n",
    "        for i in range(3):\n",
    "            lst2[i] = lst2[i]+lst[x]\n",
    "            DFS(x+1)\n",
    "            lst2[i] = lst2[i]-lst[x]\n",
    "if __name__ == \"__main__\":\n",
    "    n = int(input())\n",
    "    lst = []\n",
    "    for i in range(n):\n",
    "        lst.append(int(input()))\n",
    "    lst.sort()\n",
    "    lst2 = [0,0,0]\n",
    "    answer = 10000000000\n",
    "    DFS(0)\n",
    "    print(answer)"
   ]
  },
  {
   "cell_type": "markdown",
   "metadata": {},
   "source": [
    "## 6.알파코드"
   ]
  },
  {
   "cell_type": "code",
   "execution_count": null,
   "metadata": {},
   "outputs": [],
   "source": [
    "def DFS(L,P):\n",
    "    global cnt\n",
    "    if L==n:\n",
    "        cnt+=1\n",
    "        for j in range(P):\n",
    "            print(chr(res[j]+64),end = '')\n",
    "        print()\n",
    "    else:\n",
    "        for i in range(1,27):\n",
    "            if code[L] == i:\n",
    "                res[P] =i\n",
    "                DFS(L+1,P+1)\n",
    "            elif i>=10 and code[L] == i//10 and code[L+1] ==i%10:\n",
    "                res[P] = i\n",
    "                DFS(L+2,P+1)\n",
    "            \n",
    "if __name__ == \"__main__\":\n",
    "    code = list(map(int,input()))\n",
    "    n = len(code)\n",
    "    res = [0] * (n+3)\n",
    "    code.insert(n,-1)\n",
    "    cnt = 0\n",
    "    DFS(0,0)\n",
    "    print(cnt)"
   ]
  },
  {
   "cell_type": "markdown",
   "metadata": {},
   "source": [
    "## 7. 송아지 찾기 BFS >  큐를 이용한다"
   ]
  },
  {
   "attachments": {
    "image.png": {
     "image/png": "[encoded data removed]"
    }
   },
   "cell_type": "markdown",
   "metadata": {},
   "source": [
    "![image.png](attachment:image.png)"
   ]
  },
  {
   "cell_type": "code",
   "execution_count": null,
   "metadata": {},
   "outputs": [],
   "source": [
    "from collections import deque\n",
    "Max = 10000\n",
    "ch = [0]* (Max+1)\n",
    "dis = [0] * (Max+1)\n",
    "n,m = map(int,input().split())\n",
    "ch[n] = 1\n",
    "dis[n] = 0\n",
    "dQ = deque()\n",
    "dQ.append(n)\n",
    "\n",
    "while dQ:\n",
    "    now = dQ.popleft()\n",
    "    if now ==m:\n",
    "        break\n",
    "    \n",
    "    for next in (now-1,now+1,now+5):\n",
    "        if 0 < next<=Max:\n",
    "            if ch[next] == 0:\n",
    "                dQ.append(next)\n",
    "                ch[next] = 1\n",
    "                dis[next] = dis[now]+1\n",
    "                \n",
    "                \n",
    "print(dis[m])"
   ]
  },
  {
   "cell_type": "code",
   "execution_count": null,
   "metadata": {},
   "outputs": [],
   "source": [
    "from collections import deque\n",
    "MAX = 10000\n",
    "ch = [0] * (MAX+1)\n",
    "dis = [0] * (MAX+1)\n",
    "n,m = map(int,input().split())\n",
    "ch[n] = 1\n",
    "dis[n] = 0\n",
    "dQ = deque()\n",
    "dQ.append(n)\n",
    "\n",
    "while dQ:\n",
    "    now = dQ.popleft()\n",
    "    if now == m:\n",
    "        break\n",
    "    for next in (now-1,now+1,now+5):\n",
    "        if 0<next <=MAX:\n",
    "            if ch[next] == 0:\n",
    "                dQ.append(next)\n",
    "                ch[next] =1 \n",
    "                dis[next] = dis[now]+1\n",
    "print(dis[m])  "
   ]
  },
  {
   "cell_type": "markdown",
   "metadata": {},
   "source": [
    "## 8.사과나무"
   ]
  },
  {
   "cell_type": "code",
   "execution_count": null,
   "metadata": {},
   "outputs": [],
   "source": [
    "n = int(input())\n",
    "mat = []\n",
    "for i in range(n):\n",
    "    mat.append(list(map(int,input().split())))"
   ]
  },
  {
   "cell_type": "code",
   "execution_count": null,
   "metadata": {
    "scrolled": true
   },
   "outputs": [],
   "source": [
    "now = (n+1)//2\n",
    "cnt = 0\n",
    "\n",
    "for i in range(n):\n",
    "    ch = [1] * (n+1)\n",
    "    if i < (n+1)//2:\n",
    "        ch[((n+1)//2)-i: ((n+1)//2)+i+1] = [0] * len(ch[((n+1)//2)-i: ((n+1)//2)+i+1])\n",
    "        for next in (now-1,now,now+1):\n",
    "            if ch[next] ==0:\n",
    "                ch[next] =1\n",
    "                cnt += mat[i][next-1]\n",
    "    else:\n",
    "        ch[((n+1)//2)+2-i: ((n+1)//2)+5-i] =  [0]* len(ch[((n+1)//2)+2-i: ((n+1)//2)+5-i])\n",
    "        for next in (now-1,now,now+1):\n",
    "            if ch[next] ==0:\n",
    "                ch[next] =1\n",
    "                cnt += mat[i][next-1]\n",
    "    print(ch)\n",
    "print(cnt)"
   ]
  },
  {
   "cell_type": "code",
   "execution_count": 2,
   "metadata": {
    "collapsed": true
   },
   "outputs": [
    {
     "name": "stdout",
     "output_type": "stream",
     "text": [
      "a\n"
     ]
    },
    {
     "ename": "ValueError",
     "evalue": "invalid literal for int() with base 10: 'a'",
     "output_type": "error",
     "traceback": [
      "\u001b[1;31m---------------------------------------------------------------------------\u001b[0m",
      "\u001b[1;31mValueError\u001b[0m                                Traceback (most recent call last)",
      "\u001b[1;32m<ipython-input-2-c3722fd1404c>\u001b[0m in \u001b[0;36m<module>\u001b[1;34m\u001b[0m\n\u001b[1;32m----> 1\u001b[1;33m \u001b[0mn\u001b[0m \u001b[1;33m=\u001b[0m \u001b[0mint\u001b[0m\u001b[1;33m(\u001b[0m\u001b[0minput\u001b[0m\u001b[1;33m(\u001b[0m\u001b[1;33m)\u001b[0m\u001b[1;33m)\u001b[0m\u001b[1;33m\u001b[0m\u001b[1;33m\u001b[0m\u001b[0m\n\u001b[0m\u001b[0;32m      2\u001b[0m \u001b[0ma\u001b[0m \u001b[1;33m=\u001b[0m \u001b[1;33m[\u001b[0m\u001b[0mlist\u001b[0m\u001b[1;33m(\u001b[0m\u001b[0mmap\u001b[0m\u001b[1;33m(\u001b[0m\u001b[0mint\u001b[0m\u001b[1;33m,\u001b[0m\u001b[0minput\u001b[0m\u001b[1;33m(\u001b[0m\u001b[1;33m)\u001b[0m\u001b[1;33m.\u001b[0m\u001b[0msplit\u001b[0m\u001b[1;33m(\u001b[0m\u001b[1;33m)\u001b[0m\u001b[1;33m)\u001b[0m\u001b[1;33m)\u001b[0m\u001b[1;32mfor\u001b[0m \u001b[0m_\u001b[0m \u001b[1;32min\u001b[0m \u001b[0mrange\u001b[0m\u001b[1;33m(\u001b[0m\u001b[0mn\u001b[0m\u001b[1;33m)\u001b[0m\u001b[1;33m]\u001b[0m\u001b[1;33m\u001b[0m\u001b[1;33m\u001b[0m\u001b[0m\n\u001b[0;32m      3\u001b[0m \u001b[0mch\u001b[0m \u001b[1;33m=\u001b[0m \u001b[1;33m[\u001b[0m\u001b[1;33m[\u001b[0m\u001b[1;36m0\u001b[0m\u001b[1;33m]\u001b[0m \u001b[1;33m*\u001b[0m\u001b[0mn\u001b[0m \u001b[1;32mfor\u001b[0m \u001b[0m_\u001b[0m \u001b[1;32min\u001b[0m \u001b[0mrange\u001b[0m\u001b[1;33m(\u001b[0m\u001b[0mn\u001b[0m\u001b[1;33m)\u001b[0m\u001b[1;33m]\u001b[0m\u001b[1;33m\u001b[0m\u001b[1;33m\u001b[0m\u001b[0m\n\u001b[0;32m      4\u001b[0m \u001b[0msum\u001b[0m \u001b[1;33m=\u001b[0m \u001b[1;36m0\u001b[0m\u001b[1;33m\u001b[0m\u001b[1;33m\u001b[0m\u001b[0m\n\u001b[0;32m      5\u001b[0m \u001b[0mQ\u001b[0m \u001b[1;33m=\u001b[0m \u001b[0mdeque\u001b[0m\u001b[1;33m(\u001b[0m\u001b[1;33m)\u001b[0m\u001b[1;33m\u001b[0m\u001b[1;33m\u001b[0m\u001b[0m\n",
      "\u001b[1;31mValueError\u001b[0m: invalid literal for int() with base 10: 'a'"
     ]
    }
   ],
   "source": [
    "n = int(input())\n",
    "a = [list(map(int,input().split()))for _ in range(n)]\n",
    "ch = [[0] *n for _ in range(n)]\n",
    "sum = 0\n",
    "Q = deque()\n",
    "ch[n//2][n//2] = 1\n",
    "sum += a[n//2][n//2]\n",
    "Q.append((n//2,n//2))\n",
    "L = 0\n",
    "b1 = [-1, 0, 1, 0]\n",
    "b2 = [0, 1, 0, -1]\n",
    "while True:\n",
    "    if L==n//2:\n",
    "        break\n",
    "    size = len(Q)\n",
    "    for i in range(size):\n",
    "        tmp = Q.popleft()\n",
    "        for j in range(4):\n",
    "            if ch[tmp[0]+b1[j]][tmp[1]+b2[j]] == 1:\n",
    "                continue\n",
    "            ch[tmp[0]+b1[j]][tmp[1]+b2[j]] = 1\n",
    "            sum += a[tmp[0]+b1[j]][tmp[1]+b2[j]]\n",
    "            Q.append((tmp[0]+b1[j],tmp[1]+b2[j]))\n",
    "    L = L+1\n",
    "print(sum)"
   ]
  },
  {
   "cell_type": "code",
   "execution_count": null,
   "metadata": {},
   "outputs": [],
   "source": []
  },
  {
   "cell_type": "markdown",
   "metadata": {},
   "source": [
    "## 9.미로 최단 거리 통로 (BFS)"
   ]
  },
  {
   "cell_type": "code",
   "execution_count": 48,
   "metadata": {},
   "outputs": [
    {
     "name": "stdout",
     "output_type": "stream",
     "text": [
      "-1\n"
     ]
    }
   ],
   "source": [
    "import sys\n",
    "from collections import deque\n",
    "a = [list(map(int,input().split())) for i in range(7)]\n",
    "\n",
    "b1 = [-1, 0, 1, 0]\n",
    "b2 = [0, 1, 0, -1]\n",
    "start = (0,0)\n",
    "end = (6,6)\n",
    "num = 0\n",
    "a[0][0]=1\n",
    "Q = deque()\n",
    "Q.append(start)\n",
    "L = 0\n",
    "while True:\n",
    "    if num > 10000:\n",
    "        break\n",
    "        \n",
    "    for j in range(len(Q)):\n",
    "        now = Q.popleft()\n",
    "        for i in range(4):    \n",
    "            x = now[0] + b1[i]\n",
    "            y = now[1] + b2[i]\n",
    "            if x < 0 or y < 0 or x>6 or y>6 or a[x][y] == 1:\n",
    "                continue\n",
    "            a[x][y] = 1\n",
    "            Q.append((x,y))\n",
    "            if (x,y) == (6,6):\n",
    "                num+=1\n",
    "                print(num)\n",
    "                sys.exit(0)\n",
    "    num += 1\n",
    "if num>10000:\n",
    "    print(-1)\n",
    "else:\n",
    "    print(num)"
   ]
  },
  {
   "cell_type": "code",
   "execution_count": 79,
   "metadata": {
    "scrolled": true
   },
   "outputs": [
    {
     "name": "stdout",
     "output_type": "stream",
     "text": [
      "8\n"
     ]
    }
   ],
   "source": [
    "def DFS(x,y):\n",
    "    global cnt\n",
    "    if (x,y)==(6,6):\n",
    "        cnt += 1 \n",
    "        return\n",
    "    else:\n",
    "        mat[x][y] = 1\n",
    "        for i in range(4):\n",
    "            xx = x+a1[i]\n",
    "            yy = y+a2[i]\n",
    "            if 0<=xx<=6 and 0<=yy<=6 and mat[xx][yy] != 1:\n",
    "                mat[xx][yy] = 1\n",
    "                DFS(xx,yy)\n",
    "                mat[xx][yy] = 0\n",
    "            \n",
    "if __name__ == \"__main__\":\n",
    "    mat = deepcopy(a)\n",
    "    a1 = [1, 0 ,-1, 0]\n",
    "    a2 = [0, 1, 0, -1]\n",
    "    cnt = 0\n",
    "    mat[0][0] = 1\n",
    "    DFS(0,0)\n",
    "    print(cnt)"
   ]
  },
  {
   "cell_type": "markdown",
   "metadata": {},
   "source": [
    "## 10.등산경로"
   ]
  },
  {
   "cell_type": "code",
   "execution_count": null,
   "metadata": {},
   "outputs": [],
   "source": [
    "def DFS(y,x):\n",
    "    global cnt\n",
    "    if (y,x)==(max_yx[0],max_yx[1]):\n",
    "        cnt += 1\n",
    "        return\n",
    "    else:\n",
    "        ch[y][x] = 1\n",
    "        for i in range(4):\n",
    "            xx = x+a1[i]\n",
    "            yy = y+a2[i]\n",
    "            if 0<=xx<n and 0<=yy<n and ch[yy][xx] != 1:\n",
    "                if mat[yy][xx] > mat[y][x]:\n",
    "                    DFS(yy,xx)\n",
    "                    ch[y][x] = 0\n",
    "\n",
    "                \n",
    "if __name__ == \"__main__\":\n",
    "    #n = int(input())\n",
    "    #mat = [list(map(int,input().split())) for i in range(n)]\n",
    "    ch = copy.deepcopy(mat)\n",
    "    a1 = [1, 0 ,-1, 0]\n",
    "    a2 = [0, 1, 0, -1]\n",
    "    cnt = 0\n",
    "    mat_max = 0\n",
    "    mat_min = 10**10\n",
    "    for y in range(n):\n",
    "        for x in range(n):\n",
    "            if mat[y][x]< mat_min:\n",
    "                mat_min = mat[y][x]\n",
    "                min_yx = [y,x]\n",
    "            if mat[y][x] > mat_max:\n",
    "                mat_max = mat[y][x]\n",
    "                max_yx = [y,x]\n",
    "    DFS(min_yx[0],min_yx[1])\n",
    "    print(cnt)"
   ]
  },
  {
   "cell_type": "markdown",
   "metadata": {},
   "source": [
    "## 11 단지번호 붙이기"
   ]
  },
  {
   "cell_type": "code",
   "execution_count": null,
   "metadata": {},
   "outputs": [],
   "source": [
    "def DFS(y,x):\n",
    "    global cnt \n",
    "    if mat[y][x] == 0:\n",
    "        return\n",
    "    else:\n",
    "        mat[y][x] = 0\n",
    "        cnt+=1\n",
    "        for k in range(4):\n",
    "            yy = y+dy[k]\n",
    "            xx = x+dx[k]\n",
    "            if yy in range(n) and xx in range(n):\n",
    "                DFS(yy,xx)\n",
    "        \n",
    "        \n",
    "if __name__ =='__main__':\n",
    "    n = int(input())\n",
    "    mat = [[int(i) for i in input()] for i in range(n)]\n",
    "    cnt = 0\n",
    "    dx = [1,0,-1,0] \n",
    "    dy = [0,1,0,-1]\n",
    "    houses = []\n",
    "    for i in range(n):\n",
    "        for j in range(n):\n",
    "            if mat[i][j] == 1:\n",
    "                DFS(i,j)\n",
    "                houses.append(cnt)\n",
    "                cnt = 0\n",
    "    print(len(houses))\n",
    "    houses.sort()\n",
    "    for h in houses:\n",
    "        print(h)\n"
   ]
  },
  {
   "cell_type": "markdown",
   "metadata": {},
   "source": [
    "## 12 섬"
   ]
  },
  {
   "cell_type": "code",
   "execution_count": null,
   "metadata": {},
   "outputs": [],
   "source": [
    "def DFS(y,x): \n",
    "    if mat[y][x] == 0:\n",
    "        return\n",
    "    else:\n",
    "        mat[y][x] = 0\n",
    "        \n",
    "        for k in range(8):\n",
    "            yy = y+dy[k]\n",
    "            xx = x+dx[k]\n",
    "            if yy in range(n) and xx in range(n):\n",
    "                DFS(yy,xx)\n",
    "        \n",
    "        \n",
    "if __name__ =='__main__':\n",
    "    n = int(input())\n",
    "    mat = [list(map(int,input().split())) for i in range(n)]\n",
    "    cnt = 0\n",
    "    dx = [1,0,-1,0,1,1,-1,-1] \n",
    "    dy = [0,1,0,-1,1,-1,1,-1]\n",
    "    for i in range(n):\n",
    "        for j in range(n):\n",
    "            if mat[i][j] == 1:\n",
    "                cnt+=1\n",
    "                DFS(i,j)\n",
    "    print(cnt)\n",
    "\n"
   ]
  },
  {
   "cell_type": "markdown",
   "metadata": {},
   "source": [
    "## 13 안전영역(난이도 상상?)"
   ]
  },
  {
   "cell_type": "code",
   "execution_count": null,
   "metadata": {},
   "outputs": [],
   "source": [
    "import sys\n",
    "dx = [1,0,-1,0]\n",
    "dy = [0,1,0,-1]\n",
    "\n",
    "sys.setrecursionlimit(10**5)\n",
    "def DFS(x,y,h):\n",
    "    ch[x][y] = 1 \n",
    "    for i in range(4):\n",
    "        xx = x+dx[i]\n",
    "        yy = y+dy[i]\n",
    "        if 0<=xx <n and 0<=yy<n and ch[xx][yy] == 0 and mat[xx][yy]>h:\n",
    "            DFS(xx,yy,h)\n",
    "        \n",
    "        \n",
    "if __name__ =='__main__':\n",
    "    #n = int(input())\n",
    "    #mat = [list(map(int,input().split())) for i in range(n)]\n",
    "    mat2 = copy.deepcopy(mat)\n",
    "    \n",
    "    res = 0\n",
    "    for h in range(100):\n",
    "        ch = [[0]*n for _ in range(n)]\n",
    "        cnt = 0\n",
    "        for i in range(n):\n",
    "            for j in range(n):\n",
    "                if ch[i][j] ==0 and mat[i][j] >h:\n",
    "                    cnt+=1\n",
    "                    DFS(i,j,h)\n",
    "        res = max(res,cnt)\n",
    "        if cnt ==0:\n",
    "            break\n",
    "    \n",
    "    print(res)"
   ]
  },
  {
   "cell_type": "markdown",
   "metadata": {},
   "source": [
    "## 14 토마토"
   ]
  },
  {
   "cell_type": "code",
   "execution_count": null,
   "metadata": {},
   "outputs": [],
   "source": [
    "from collections import deque\n",
    "import copy\n",
    "\n",
    "n,m = map(int,input().split())\n",
    "mat = [list(map(int,input().split())) for _ in range(m)]\n",
    "dy = [-1,0,1,0]\n",
    "dx = [0,1,0,-1]\n",
    "mat2 = copy.deepcopy(mat)\n",
    "day = 0\n",
    "nxt = deque([])\n",
    "for i in range(m):\n",
    "    for j in range(n):\n",
    "        if mat2[i][j] == 1:\n",
    "            nxt.append([i,j])\n",
    "\n",
    "while True:\n",
    "    if nxt == deque([]):\n",
    "        break\n",
    "    \n",
    "    day += 1\n",
    "    for k in range(len(nxt)):\n",
    "        now = nxt.popleft()\n",
    "        for h in range(4):\n",
    "            yy = now[0] +dy[h]\n",
    "            xx = now[1] +dx[h]\n",
    "            if 0<=yy <m and 0<=xx<n and mat2[yy][xx] ==0:\n",
    "                mat2[yy][xx] = 1\n",
    "                nxt.append([yy,xx])\n",
    "days = day-1\n",
    "for i in range(m):\n",
    "    for j in range(n):\n",
    "        if mat2[i][j] == 0:\n",
    "            days = -1\n",
    "print(days)\n"
   ]
  }
 ],
 "metadata": {
  "kernelspec": {
   "display_name": "Python 3",
   "language": "python",
   "name": "python3"
  },
  "language_info": {
   "codemirror_mode": {
    "name": "ipython",
    "version": 3
   },
   "file_extension": ".py",
   "mimetype": "text/x-python",
   "name": "python",
   "nbconvert_exporter": "python",
   "pygments_lexer": "ipython3",
   "version": "3.8.5"
  }
 },
 "nbformat": 4,
 "nbformat_minor": 2
}
