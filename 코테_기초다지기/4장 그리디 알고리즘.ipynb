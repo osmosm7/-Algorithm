{
 "cells": [
  {
   "cell_type": "markdown",
   "metadata": {},
   "source": [
    "### 1. 이분검색 (lt, rt)"
   ]
  },
  {
   "cell_type": "markdown",
   "metadata": {},
   "source": [
    "### 풀이개요"
   ]
  },
  {
   "cell_type": "markdown",
   "metadata": {},
   "source": [
    "mid = (lt+rt)//2\n",
    "if a[mid] == m:\n",
    "    if mid >m :\n",
    "        rt = mid-1\n",
    "    elif mid < m:\n",
    "        lt = mid+1\n",
    "else:\n",
    "    print(mid +1)"
   ]
  },
  {
   "cell_type": "code",
   "execution_count": 15,
   "metadata": {},
   "outputs": [
    {
     "name": "stdout",
     "output_type": "stream",
     "text": [
      "8 32\n",
      "32 57 65 99 12 23 87 81\n",
      "0 2\n",
      "2 2\n",
      "3\n"
     ]
    }
   ],
   "source": [
    "n,m = map(int,input().split())\n",
    "a = list(map(int,input().split()))\n",
    "a.sort()\n",
    "lt = 0\n",
    "rt = len(a)-1\n",
    "\n",
    "while True:\n",
    "    mid = (lt + rt)//2 \n",
    "    if a[mid] == m:\n",
    "        print(mid+1)\n",
    "        break\n",
    "    else:\n",
    "        if a[mid] > m:\n",
    "            rt = mid-1\n",
    "        else:\n",
    "            lt = mid+1"
   ]
  },
  {
   "cell_type": "markdown",
   "metadata": {},
   "source": [
    "### 4-2 랜선자르기(결정 알고리즘)"
   ]
  },
  {
   "cell_type": "markdown",
   "metadata": {},
   "source": [
    "결정 알고리즘에서 이분검색 사용\n",
    "\n",
    "답이 특정 범위 안에 있음을 알고 있을때 이분검색 사용\n",
    "여기서 N은 1이상 1000000이하 이므로 가능(최대 랜선 길이인 802까지가 실제 범위)"
   ]
  },
  {
   "cell_type": "code",
   "execution_count": 16,
   "metadata": {},
   "outputs": [
    {
     "name": "stdout",
     "output_type": "stream",
     "text": [
      "4 11\n"
     ]
    }
   ],
   "source": [
    "k,n = map(int,input().split())\n",
    "a = []\n",
    "for i in range(k):\n",
    "    a.append(int(input()))\n",
    "lt = 1\n",
    "rt = max(a)\n",
    "\n",
    "answer = 0\n",
    "while lt <= rt:\n",
    "    mid = (lt+rt)//2\n",
    "    total = 0\n",
    "    for i in a:\n",
    "        total += i//mid\n",
    "    if total >= n:\n",
    "        answer = mid\n",
    "        lt = mid +1\n",
    "    else:\n",
    "        rt = mid -1\n",
    "print(answer)"
   ]
  },
  {
   "cell_type": "markdown",
   "metadata": {},
   "source": [
    "### 4-3 결정알고리즘"
   ]
  },
  {
   "cell_type": "code",
   "execution_count": 31,
   "metadata": {},
   "outputs": [
    {
     "name": "stdout",
     "output_type": "stream",
     "text": [
      "9 3\n"
     ]
    }
   ],
   "source": []
  },
  {
   "cell_type": "code",
   "execution_count": 110,
   "metadata": {},
   "outputs": [
    {
     "name": "stdout",
     "output_type": "stream",
     "text": [
      "9 3\n",
      "1 2 3 4 5 6 7 8 9\n"
     ]
    }
   ],
   "source": [
    "n,m = map(int,input().split())\n",
    "lst = list(map(int,input().split()))\n"
   ]
  },
  {
   "cell_type": "code",
   "execution_count": 111,
   "metadata": {},
   "outputs": [
    {
     "name": "stdout",
     "output_type": "stream",
     "text": [
      "22 [21, 15, 9]\n",
      "10 [10, 5, 6, 7, 8, 9]\n",
      "16 [15, 13, 8, 9]\n",
      "19 [15, 13, 17]\n",
      "17 [15, 13, 17]\n",
      "17\n"
     ]
    }
   ],
   "source": [
    "lt =0\n",
    "rt = sum(lst)\n",
    "answer = sum(lst)\n",
    "\n",
    "while lt <=rt:\n",
    "    mid = (lt+rt)//2\n",
    "    total = []\n",
    "    t = 0\n",
    "    for i in range(len(lst)):\n",
    "        t += lst[i]\n",
    "        if t > mid:\n",
    "            t -=lst[i]\n",
    "            total.append(t)\n",
    "            t = lst[i]\n",
    "            if i == len(lst)-1:\n",
    "                total.append(t)\n",
    "        elif i == len(lst)-1:\n",
    "            total.append(t)\n",
    "    if len(total) <= m:\n",
    "        answer = mid\n",
    "        rt = mid-1  \n",
    "    else:\n",
    "        lt = mid+1\n",
    "    print(mid, total)\n",
    "    \n",
    "if answer < max(lst):\n",
    "    answer = max(lst)\n",
    "print(answer)"
   ]
  },
  {
   "cell_type": "markdown",
   "metadata": {},
   "source": [
    "### 4-4 마구간 정하기"
   ]
  },
  {
   "cell_type": "code",
   "execution_count": 135,
   "metadata": {},
   "outputs": [
    {
     "name": "stdout",
     "output_type": "stream",
     "text": [
      "5 3\n"
     ]
    }
   ],
   "source": [
    "n,m = map(int,input().split())\n",
    "lst = []\n",
    "for i in range(n):\n",
    "    lst.append(int(input()))\n",
    "lst.sort()\n",
    "lt = min(lst)\n",
    "rt = max(lst)-min(lst)\n",
    "answer = max(lst)-min(lst)\n",
    "while lt <= rt:\n",
    "    mid = (lt+rt)//2\n",
    "    start = 0\n",
    "    tot = 1\n",
    "    for i in range(len(lst)):\n",
    "        if lst[i] - lst[start] >= mid:\n",
    "            start = i  \n",
    "            tot +=1\n",
    "            if tot == m:\n",
    "                break\n",
    "    if tot < m:\n",
    "        rt = mid-1\n",
    "    else:\n",
    "        lt = mid+1\n",
    "        answer = mid\n",
    "print(answer)\n"
   ]
  },
  {
   "cell_type": "markdown",
   "metadata": {},
   "source": [
    "### 4-5 회의실 배정(그리디)"
   ]
  },
  {
   "cell_type": "code",
   "execution_count": 158,
   "metadata": {
    "scrolled": true
   },
   "outputs": [
    {
     "name": "stdout",
     "output_type": "stream",
     "text": [
      "5\n",
      "1 4\n",
      "2 3\n",
      "3 5\n",
      "4 6\n",
      "5 7\n"
     ]
    }
   ],
   "source": [
    "n = int(input())\n",
    "lst = []\n",
    "for i in range(n):\n",
    "    lst.append( list(map(int,input().split())))\n",
    "lst.sort(key = lambda x : x[1])\n",
    "answer = 1\n",
    "a = 0\n",
    "for i in range(1,n):\n",
    "    if lst[i][0]>=lst[a][1]:\n",
    "        a = i\n",
    "        answer +=1\n",
    "print(answer)"
   ]
  },
  {
   "cell_type": "markdown",
   "metadata": {},
   "source": [
    "### 4-6 씨름선수"
   ]
  },
  {
   "cell_type": "code",
   "execution_count": 168,
   "metadata": {},
   "outputs": [
    {
     "name": "stdout",
     "output_type": "stream",
     "text": [
      "5\n",
      "172 67\n",
      "183 65\n",
      "180 70\n",
      "170 72\n",
      "181 60\n"
     ]
    }
   ],
   "source": [
    "n = int(input())\n",
    "lst = []\n",
    "for i in range(n):\n",
    "    lst.append(list(map(int,input().split())))\n"
   ]
  },
  {
   "cell_type": "code",
   "execution_count": 171,
   "metadata": {},
   "outputs": [
    {
     "name": "stdout",
     "output_type": "stream",
     "text": [
      "5\n"
     ]
    }
   ],
   "source": [
    "lst.sort()\n",
    "cnt = 0\n",
    "for i in range(n-1):\n",
    "    for j in range(i+1,n):\n",
    "        if lst[i][0] <lst[j][0] and lst[i][1]< lst[j][1]:\n",
    "            cnt+=1\n",
    "            break\n",
    "print(n-cnt)"
   ]
  },
  {
   "cell_type": "code",
   "execution_count": 175,
   "metadata": {
    "scrolled": true
   },
   "outputs": [
    {
     "name": "stdout",
     "output_type": "stream",
     "text": [
      "3\n"
     ]
    }
   ],
   "source": [
    "lst.sort(reverse = True)\n",
    "cnt = 0\n",
    "largest = 0\n",
    "for i,j in lst:\n",
    "    if j > largest:\n",
    "        cnt+=1\n",
    "        largest = j\n",
    "print(cnt)"
   ]
  },
  {
   "cell_type": "markdown",
   "metadata": {},
   "source": [
    "### 4-7 창고정리"
   ]
  },
  {
   "cell_type": "code",
   "execution_count": 176,
   "metadata": {
    "scrolled": false
   },
   "outputs": [
    {
     "name": "stdout",
     "output_type": "stream",
     "text": [
      "10\n",
      "69 42 68 76 40 87 14 65 76 81\n",
      "50\n"
     ]
    }
   ],
   "source": [
    "N = int(input())\n",
    "lst = list(map(int,input().split()))\n",
    "m = int(input())\n",
    "for i in range(m):\n",
    "    lst[lst.index(max(lst))] = max(lst) - 1\n",
    "    lst[lst.index(min(lst))] = min(lst) + 1\n",
    "print(max(lst)-min(lst))"
   ]
  },
  {
   "cell_type": "markdown",
   "metadata": {},
   "source": [
    "### 4-7 침몰하는 타이타닉(deque)"
   ]
  },
  {
   "cell_type": "code",
   "execution_count": 211,
   "metadata": {},
   "outputs": [
    {
     "name": "stdout",
     "output_type": "stream",
     "text": [
      "5 140\n",
      "90 50 70 100 60\n"
     ]
    }
   ],
   "source": [
    "from collections import deque\n",
    "\n",
    "\n",
    "n,m = map(int,input().split())\n",
    "lst = list(map(int,input().split()))\n",
    "lst.sort(reverse = True)\n",
    "lst = deque(lst)\n",
    "\n",
    "cnt = 0\n",
    "while len(lst)>0:\n",
    "    cnt +=1\n",
    "    a = lst.popleft()\n",
    "    for i in range(len(lst)):\n",
    "        if lst[i]<= m - a:\n",
    "            lst.remove(lst[i])\n",
    "            break\n",
    "print(cnt)"
   ]
  },
  {
   "cell_type": "markdown",
   "metadata": {},
   "source": [
    "### 4-8 증가수열 만들기(그리디)"
   ]
  },
  {
   "cell_type": "code",
   "execution_count": 256,
   "metadata": {},
   "outputs": [],
   "source": [
    "n = int(input())\n",
    "lst = list(map(int,input().split()))\n",
    "lst = deque(lst)\n",
    "\n",
    "a1 = 0\n",
    "a2 = ''\n",
    "res = 0\n",
    "while len(lst)>0:\n",
    "    if lst[0] == n+1 and lst[-1] == n+1:\n",
    "        break\n",
    "    \n",
    "    elif lst[0]>lst[-1]:\n",
    "        if lst[-1] <res:\n",
    "            lst[-1] = n+1\n",
    "            continue\n",
    "        a1+=1\n",
    "        res = lst.pop()\n",
    "        a2 = a2 + 'R'\n",
    "        \n",
    "    else:\n",
    "        if lst[0] <res:\n",
    "            lst[0] = n+1\n",
    "            continue\n",
    "        a1+=1\n",
    "        res = lst.popleft()\n",
    "        a2 = a2 +'L'\n",
    "print(a1)\n",
    "print(a2)"
   ]
  },
  {
   "cell_type": "markdown",
   "metadata": {},
   "source": [
    "### 4-9 역수열 만들기"
   ]
  },
  {
   "cell_type": "code",
   "execution_count": 297,
   "metadata": {
    "scrolled": true
   },
   "outputs": [
    {
     "name": "stdout",
     "output_type": "stream",
     "text": [
      "8\n",
      "5 3 4 0 2 1 1 0\n",
      "4 8 6 2 5 1 3 7 "
     ]
    }
   ],
   "source": [
    "n = int(input())\n",
    "lst = list(map(int,input().split()))\n",
    "answer = [n+1]*n\n",
    "new = []\n",
    "for idx,j in enumerate(lst):\n",
    "    new.append([idx+1,j])\n",
    "for i in range(n):\n",
    "    cnt = 0\n",
    "    for j in range(n):\n",
    "        if cnt == new[i][1]:\n",
    "            if answer[j]> new[i][0]:\n",
    "                answer[j] = new[i][0]\n",
    "                break\n",
    "        elif answer[j] < new[i][0]:\n",
    "            continue\n",
    "        elif answer[j] > new[i][0]:\n",
    "            cnt +=1\n",
    "\n",
    "for i in answer:\n",
    "    print(i,end = ' ')"
   ]
  },
  {
   "cell_type": "code",
   "execution_count": 298,
   "metadata": {
    "scrolled": true
   },
   "outputs": [
    {
     "name": "stdout",
     "output_type": "stream",
     "text": [
      "8\n",
      "5 3 4 0 2 1 1 0\n"
     ]
    }
   ],
   "source": [
    "n = int(input())\n",
    "lst = list(map(int,input().split()))\n",
    "answer = [0]*n\n",
    "new = []\n",
    "for idx,j in enumerate(lst):\n",
    "    new.append([idx+1,j])\n",
    "for i in range(n):\n",
    "    cnt = 0\n",
    "    for j in range(n):\n",
    "        if answer[j] == 0:\n",
    "            if cnt == new[i][1]:\n",
    "                answer[j] = new[i][0]\n",
    "                break\n",
    "            else:\n",
    "                cnt+=1\n",
    "for i in answer:\n",
    "    print(i,end = ' ')"
   ]
  }
 ],
 "metadata": {
  "kernelspec": {
   "display_name": "Python 3",
   "language": "python",
   "name": "python3"
  },
  "language_info": {
   "codemirror_mode": {
    "name": "ipython",
    "version": 3
   },
   "file_extension": ".py",
   "mimetype": "text/x-python",
   "name": "python",
   "nbconvert_exporter": "python",
   "pygments_lexer": "ipython3",
   "version": "3.7.3"
  }
 },
 "nbformat": 4,
 "nbformat_minor": 2
}
