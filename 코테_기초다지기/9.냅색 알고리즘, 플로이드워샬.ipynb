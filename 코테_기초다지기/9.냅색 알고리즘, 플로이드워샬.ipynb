{
 "cells": [
  {
   "cell_type": "markdown",
   "id": "suited-liabilities",
   "metadata": {},
   "source": [
    "## 냅색 알고리즘\n",
    "\n",
    "* dy를 만들어준다.\n",
    "\n",
    "* dy는 j만큼 담았을 때 보석의 최대 가치를 나타낸다."
   ]
  },
  {
   "cell_type": "markdown",
   "id": "welsh-gauge",
   "metadata": {},
   "source": [
    "## 1. 가방에 보석 담기"
   ]
  },
  {
   "cell_type": "code",
   "execution_count": 1,
   "id": "assumed-methodology",
   "metadata": {},
   "outputs": [
    {
     "name": "stdout",
     "output_type": "stream",
     "text": [
      "4 11\n"
     ]
    }
   ],
   "source": [
    "n,m = map(int,input().split())"
   ]
  },
  {
   "cell_type": "code",
   "execution_count": 2,
   "id": "explicit-despite",
   "metadata": {},
   "outputs": [
    {
     "name": "stdout",
     "output_type": "stream",
     "text": [
      "5 12\n",
      "3 8\n",
      "6 14\n",
      "4 8\n"
     ]
    }
   ],
   "source": [
    "lst = [list(map(int,input().split())) for _ in range(n)]"
   ]
  },
  {
   "cell_type": "code",
   "execution_count": 10,
   "id": "graduate-reliance",
   "metadata": {},
   "outputs": [],
   "source": [
    "dy = [0]* (m+1)"
   ]
  },
  {
   "cell_type": "code",
   "execution_count": 11,
   "id": "renewable-mortality",
   "metadata": {},
   "outputs": [],
   "source": [
    "for i in lst:\n",
    "    for j in range(i[0],m+1):\n",
    "        if dy[j-i[0]] + i[1] > dy[j]:\n",
    "            dy[j] = dy[j-i[0]] + i[1]"
   ]
  },
  {
   "cell_type": "code",
   "execution_count": 13,
   "id": "automotive-cornwall",
   "metadata": {},
   "outputs": [
    {
     "name": "stdout",
     "output_type": "stream",
     "text": [
      "28\n"
     ]
    }
   ],
   "source": [
    "print(dy[-1])"
   ]
  },
  {
   "cell_type": "markdown",
   "id": "broadband-gregory",
   "metadata": {},
   "source": [
    "## 동전교환"
   ]
  },
  {
   "cell_type": "code",
   "execution_count": 39,
   "id": "legal-provider",
   "metadata": {},
   "outputs": [
    {
     "name": "stdout",
     "output_type": "stream",
     "text": [
      "5\n",
      "1 8 20 25 50\n",
      "129\n"
     ]
    }
   ],
   "source": [
    "n = int(input())\n",
    "lst = list(map(int,input().split()))\n",
    "m = int(input())"
   ]
  },
  {
   "cell_type": "code",
   "execution_count": 40,
   "id": "choice-saskatchewan",
   "metadata": {},
   "outputs": [],
   "source": [
    "lst.sort()"
   ]
  },
  {
   "cell_type": "code",
   "execution_count": 48,
   "id": "appointed-invite",
   "metadata": {},
   "outputs": [],
   "source": [
    "dy = [0] * (m+1)"
   ]
  },
  {
   "cell_type": "code",
   "execution_count": 52,
   "id": "robust-brazilian",
   "metadata": {},
   "outputs": [],
   "source": [
    "cnt = 0\n",
    "for i in lst:\n",
    "    for j in range(i,m+1):\n",
    "        #처음엔 갱신하고 그다음엔 더 작으면 갱신\n",
    "        if cnt > 0:\n",
    "            dy[j] = min(dy[j],dy[j-i] +1)\n",
    "        else:\n",
    "            dy[j] = dy[j-i] +1\n",
    "    cnt +=1        "
   ]
  },
  {
   "cell_type": "code",
   "execution_count": 53,
   "id": "speaking-control",
   "metadata": {},
   "outputs": [
    {
     "data": {
      "text/plain": [
       "5"
      ]
     },
     "execution_count": 53,
     "metadata": {},
     "output_type": "execute_result"
    }
   ],
   "source": [
    "dy[-1]"
   ]
  },
  {
   "cell_type": "markdown",
   "id": "contrary-pittsburgh",
   "metadata": {},
   "source": [
    "## 3. 최대 점수 구하기 \n",
    "\n",
    "위의 동전, 보석 문제는 하나에 대해 여러번 수행 가능\n",
    "\n",
    "하지만 문제 풀기는 한문제당 한번만 풀 수 있음"
   ]
  },
  {
   "cell_type": "code",
   "execution_count": 116,
   "id": "sensitive-equality",
   "metadata": {},
   "outputs": [
    {
     "name": "stdout",
     "output_type": "stream",
     "text": [
      "9 50\n"
     ]
    }
   ],
   "source": [
    "n,m = map(int,input().split())"
   ]
  },
  {
   "cell_type": "code",
   "execution_count": 117,
   "id": "impressed-midnight",
   "metadata": {},
   "outputs": [
    {
     "name": "stdout",
     "output_type": "stream",
     "text": [
      "12 7\n",
      "16 8\n",
      "20 10\n",
      "30 15\n",
      "10 5\n"
     ]
    }
   ],
   "source": [
    "lst = [list(map(int,input().split())) for _ in range(n)]"
   ]
  },
  {
   "cell_type": "code",
   "execution_count": 113,
   "id": "descending-portal",
   "metadata": {},
   "outputs": [],
   "source": [
    "dy = [0] * (m+1)"
   ]
  },
  {
   "cell_type": "code",
   "execution_count": 114,
   "id": "brief-window",
   "metadata": {},
   "outputs": [],
   "source": [
    "for i in lst:\n",
    "    for j in range(m,i[1]-1,-1):\n",
    "        dy[j] = max(dy[j-i[1]] +i[0],dy[j])"
   ]
  },
  {
   "cell_type": "code",
   "execution_count": 115,
   "id": "waiting-virginia",
   "metadata": {},
   "outputs": [
    {
     "data": {
      "text/plain": [
       "[0, 0, 0, 6, 7, 10, 10, 13, 16, 17, 17, 21, 25, 25, 25, 31, 32, 35, 35, 38, 41]"
      ]
     },
     "execution_count": 115,
     "metadata": {},
     "output_type": "execute_result"
    }
   ],
   "source": [
    "dy"
   ]
  },
  {
   "cell_type": "markdown",
   "id": "fixed-anthropology",
   "metadata": {},
   "source": [
    "## 플로이드 워샬 알고르즘\n",
    "* 모든 정점에서 모든 정점으로 가는 최소 비용을 구하는 알고리즘\n",
    "\n",
    "\n",
    "\n",
    "* i > j 노드로 갈때, 현재 dis[i][j]와 i>k>j로 가는 dis[i][k] +dis[k][j]를 비교"
   ]
  },
  {
   "cell_type": "code",
   "execution_count": 118,
   "id": "absent-teaching",
   "metadata": {},
   "outputs": [
    {
     "name": "stdout",
     "output_type": "stream",
     "text": [
      "5 8\n"
     ]
    }
   ],
   "source": [
    "n,m = map(int,input().split())"
   ]
  },
  {
   "cell_type": "code",
   "execution_count": 159,
   "id": "informational-slovak",
   "metadata": {},
   "outputs": [
    {
     "name": "stdout",
     "output_type": "stream",
     "text": [
      "1 2 6\n",
      "1 3 3\n",
      "3 2 2\n",
      "2 4 1\n",
      "2 5 13\n",
      "3 4 5\n",
      "4 2 3\n",
      "4 5 7\n"
     ]
    }
   ],
   "source": [
    "lst = [list(map(int,input().split())) for _ in range(m)]"
   ]
  },
  {
   "cell_type": "code",
   "execution_count": 160,
   "id": "packed-outline",
   "metadata": {
    "scrolled": true
   },
   "outputs": [
    {
     "data": {
      "text/plain": [
       "[[1, 2, 6],\n",
       " [1, 3, 3],\n",
       " [3, 2, 2],\n",
       " [2, 4, 1],\n",
       " [2, 5, 13],\n",
       " [3, 4, 5],\n",
       " [4, 2, 3],\n",
       " [4, 5, 7]]"
      ]
     },
     "execution_count": 160,
     "metadata": {},
     "output_type": "execute_result"
    }
   ],
   "source": [
    "lst"
   ]
  },
  {
   "cell_type": "code",
   "execution_count": 161,
   "id": "engaging-ordinary",
   "metadata": {},
   "outputs": [],
   "source": [
    "dis = [[100000] * (n+1) for _ in range(n+1)]"
   ]
  },
  {
   "cell_type": "code",
   "execution_count": 162,
   "id": "european-peter",
   "metadata": {},
   "outputs": [],
   "source": [
    "for a,b,c in lst:\n",
    "    dis[a][b] = c"
   ]
  },
  {
   "cell_type": "code",
   "execution_count": 163,
   "id": "digital-fitness",
   "metadata": {},
   "outputs": [],
   "source": [
    "for i in range(1,n+1):\n",
    "    dis[i][i] = 0"
   ]
  },
  {
   "cell_type": "code",
   "execution_count": 164,
   "id": "worldwide-thickness",
   "metadata": {},
   "outputs": [],
   "source": [
    "for k in range(1,n+1):\n",
    "    for i in range(1,n+1):\n",
    "        for j in range(1,n+1):\n",
    "            dis[i][j] = min(dis[i][j], dis[i][k]+dis[k][j])"
   ]
  },
  {
   "cell_type": "code",
   "execution_count": 165,
   "id": "generic-symbol",
   "metadata": {},
   "outputs": [
    {
     "data": {
      "text/plain": [
       "[[100000, 100000, 100000, 100000, 100000, 100000],\n",
       " [100000, 0, 5, 3, 6, 13],\n",
       " [100000, 100000, 0, 100000, 1, 8],\n",
       " [100000, 100000, 2, 0, 3, 10],\n",
       " [100000, 100000, 3, 100000, 0, 7],\n",
       " [100000, 100000, 100000, 100000, 100000, 0]]"
      ]
     },
     "execution_count": 165,
     "metadata": {},
     "output_type": "execute_result"
    }
   ],
   "source": [
    "dis"
   ]
  },
  {
   "cell_type": "markdown",
   "id": "structured-distributor",
   "metadata": {},
   "source": [
    "## 4.회장뽑기"
   ]
  },
  {
   "cell_type": "code",
   "execution_count": 166,
   "id": "norwegian-sudan",
   "metadata": {},
   "outputs": [
    {
     "name": "stdout",
     "output_type": "stream",
     "text": [
      "5\n"
     ]
    }
   ],
   "source": [
    "n = int(input())"
   ]
  },
  {
   "cell_type": "code",
   "execution_count": 192,
   "id": "vocational-stuff",
   "metadata": {},
   "outputs": [],
   "source": [
    "dis = [[1000] * (n+1) for _ in range(n+1)]"
   ]
  },
  {
   "cell_type": "code",
   "execution_count": 193,
   "id": "surprised-scene",
   "metadata": {},
   "outputs": [
    {
     "name": "stdout",
     "output_type": "stream",
     "text": [
      "1 2\n",
      "2 3\n",
      "3 4\n",
      "4 5\n",
      "2 4\n",
      "5 3\n",
      "-1 -1\n"
     ]
    }
   ],
   "source": [
    "while True:\n",
    "    a,b = map(int,input().split())\n",
    "    if a == b and a ==-1:\n",
    "        break\n",
    "    dis[a][b] = 1\n",
    "    dis[b][a] = 1"
   ]
  },
  {
   "cell_type": "code",
   "execution_count": 194,
   "id": "crazy-indianapolis",
   "metadata": {},
   "outputs": [],
   "source": [
    "for i in range(n):\n",
    "    dis[i][i] = 0"
   ]
  },
  {
   "cell_type": "code",
   "execution_count": 195,
   "id": "current-strengthening",
   "metadata": {},
   "outputs": [
    {
     "data": {
      "text/plain": [
       "[[0, 1000, 1000, 1000, 1000, 1000],\n",
       " [1000, 0, 1, 1000, 1000, 1000],\n",
       " [1000, 1, 0, 1, 1, 1000],\n",
       " [1000, 1000, 1, 0, 1, 1],\n",
       " [1000, 1000, 1, 1, 0, 1],\n",
       " [1000, 1000, 1000, 1, 1, 1000]]"
      ]
     },
     "execution_count": 195,
     "metadata": {},
     "output_type": "execute_result"
    }
   ],
   "source": [
    "dis"
   ]
  },
  {
   "cell_type": "code",
   "execution_count": 198,
   "id": "heard-burner",
   "metadata": {},
   "outputs": [],
   "source": [
    "for k in range(1,n+1):\n",
    "    for i in range(1,n+1):\n",
    "        for j in range(1,n+1):\n",
    "            dis[i][j] = min(dis[i][j], dis[i][k]+dis[k][j])"
   ]
  },
  {
   "cell_type": "code",
   "execution_count": 199,
   "id": "severe-thought",
   "metadata": {},
   "outputs": [
    {
     "data": {
      "text/plain": [
       "[[0, 1000, 1000, 1000, 1000, 1000],\n",
       " [1000, 0, 1, 2, 2, 3],\n",
       " [1000, 1, 0, 1, 1, 2],\n",
       " [1000, 2, 1, 0, 1, 1],\n",
       " [1000, 2, 1, 1, 0, 1],\n",
       " [1000, 3, 2, 1, 1, 2]]"
      ]
     },
     "execution_count": 199,
     "metadata": {},
     "output_type": "execute_result"
    }
   ],
   "source": [
    "dis"
   ]
  },
  {
   "cell_type": "code",
   "execution_count": 205,
   "id": "center-fleet",
   "metadata": {},
   "outputs": [],
   "source": [
    "res = []\n",
    "score = 1000\n",
    "for i in range(1,n+1):\n",
    "    res.append(max(dis[i][1:]))\n",
    "    score = min(score,max(dis[i][1:]))"
   ]
  },
  {
   "cell_type": "code",
   "execution_count": 207,
   "id": "accompanied-issue",
   "metadata": {},
   "outputs": [
    {
     "data": {
      "text/plain": [
       "[3, 2, 2, 2, 3]"
      ]
     },
     "execution_count": 207,
     "metadata": {},
     "output_type": "execute_result"
    }
   ],
   "source": [
    "res"
   ]
  },
  {
   "cell_type": "code",
   "execution_count": 208,
   "id": "enabling-caribbean",
   "metadata": {},
   "outputs": [
    {
     "name": "stdout",
     "output_type": "stream",
     "text": [
      "2 3\n",
      "2 3 4 "
     ]
    }
   ],
   "source": [
    "out = []\n",
    "for i in range(len(res)):\n",
    "    if res[i] == score:\n",
    "        out.append(i+1)\n",
    "print(score, len(out))\n",
    "for i in out:\n",
    "    print(i,end = ' ')"
   ]
  },
  {
   "cell_type": "code",
   "execution_count": null,
   "id": "continuous-publication",
   "metadata": {},
   "outputs": [],
   "source": []
  }
 ],
 "metadata": {
  "kernelspec": {
   "display_name": "Python 3",
   "language": "python",
   "name": "python3"
  },
  "language_info": {
   "codemirror_mode": {
    "name": "ipython",
    "version": 3
   },
   "file_extension": ".py",
   "mimetype": "text/x-python",
   "name": "python",
   "nbconvert_exporter": "python",
   "pygments_lexer": "ipython3",
   "version": "3.8.5"
  }
 },
 "nbformat": 4,
 "nbformat_minor": 5
}
